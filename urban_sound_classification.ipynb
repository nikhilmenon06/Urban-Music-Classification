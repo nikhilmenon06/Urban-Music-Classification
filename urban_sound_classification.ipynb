{
 "cells": [
  {
   "cell_type": "code",
   "execution_count": 27,
   "metadata": {},
   "outputs": [
    {
     "name": "stdout",
     "output_type": "stream",
     "text": [
      "[-0.01212928 -0.02760112 -0.02535508 ...  0.09790608  0.04330474\n",
      " -0.00681015]\n"
     ]
    }
   ],
   "source": [
    "import os\n",
    "import librosa\n",
    "\n",
    "dic = {}\n",
    "path = '/Users/vinaykaundinya/Desktop/sound classification/train/Train/' ##change path\n",
    "\n",
    "lis = os.listdir(path)\n",
    "lis.sort()\n",
    "\n",
    "for i in lis[0:10]:\n",
    "    filename = path + i \n",
    "\n",
    "    data, sr = librosa.load(filename)\n",
    "    \n",
    "    id = i.split('.',1)\n",
    "    \n",
    "    l_dic = {}\n",
    "    l_dic['dat'] = data\n",
    "    l_dic['sar'] = sr\n",
    "    \n",
    "    dic[id[0]] = l_dic\n",
    "    \n",
    "arr = dic['0']['dat']\n",
    "print(arr)\n",
    "    "
   ]
  },
  {
   "cell_type": "code",
   "execution_count": null,
   "metadata": {},
   "outputs": [],
   "source": []
  },
  {
   "cell_type": "code",
   "execution_count": null,
   "metadata": {},
   "outputs": [],
   "source": []
  }
 ],
 "metadata": {
  "kernelspec": {
   "display_name": "Python 3",
   "language": "python",
   "name": "python3"
  },
  "language_info": {
   "codemirror_mode": {
    "name": "ipython",
    "version": 3
   },
   "file_extension": ".py",
   "mimetype": "text/x-python",
   "name": "python",
   "nbconvert_exporter": "python",
   "pygments_lexer": "ipython3",
   "version": "3.8.5"
  }
 },
 "nbformat": 4,
 "nbformat_minor": 4
}
